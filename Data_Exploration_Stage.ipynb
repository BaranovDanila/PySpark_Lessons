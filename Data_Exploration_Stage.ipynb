{
 "cells": [
  {
   "cell_type": "code",
   "execution_count": 24,
   "id": "9cbe2249",
   "metadata": {
    "ExecuteTime": {
     "end_time": "2022-08-29T07:47:32.464273Z",
     "start_time": "2022-08-29T07:47:32.460115Z"
    }
   },
   "outputs": [],
   "source": [
    "import warnings\n",
    "warnings.filterwarnings('ignore')"
   ]
  },
  {
   "cell_type": "code",
   "execution_count": 25,
   "id": "8c358c1d",
   "metadata": {
    "ExecuteTime": {
     "end_time": "2022-08-29T07:47:32.485761Z",
     "start_time": "2022-08-29T07:47:32.467540Z"
    }
   },
   "outputs": [],
   "source": [
    "# Создание сессии Spark\n",
    "\n",
    "from pyspark.sql import SparkSession\n",
    "\n",
    "spark = SparkSession.builder.appName('Data_exploration').getOrCreate()"
   ]
  },
  {
   "cell_type": "markdown",
   "id": "48c1e68a",
   "metadata": {},
   "source": [
    "# Чтение данных"
   ]
  },
  {
   "cell_type": "code",
   "execution_count": 26,
   "id": "53c3e2d8",
   "metadata": {
    "ExecuteTime": {
     "end_time": "2022-08-29T07:47:32.610127Z",
     "start_time": "2022-08-29T07:47:32.486758Z"
    }
   },
   "outputs": [
    {
     "name": "stdout",
     "output_type": "stream",
     "text": [
      "manufacturer_name,model_name,transmission,color,odometer_value,year_produced,engine_fuel,engine_has_gas,engine_type,engine_capacity,body_type,has_warranty,state,drivetrain,price_usd,is_exchangeable,location_region,number_of_photos,up_counter,feature_0,feature_1,feature_2,feature_3,feature_4,feature_5,feature_6,feature_7,feature_8,feature_9,duration_listed\r\n",
      "Subaru,Outback,automatic,silver,190000,2010,gasoline,False,gasoline,2.5,universal,False,owned,all,10900.0,False,Минская обл.,9,13,False,True,True,True,False,True,False,True,True,True,16\r\n",
      "Subaru,Outback,automatic,blue,290000,2002,gasoline,False,gasoline,3.0,universal,False,owned,all,5000.0,True,Минская обл.,12,54,False,True,False,False,True,True,False,False,False,True,83\r\n",
      "Subaru,Forester,automatic,red,402000,2001,gasoline,False,gasoline,2.5,suv,False,owned,all,2800.0,True,Минская обл.,4,72,False,True,False,False,False,False,False,False,True,True,151\r\n",
      "Subaru,Impreza,mechanical,blue,10000,1999,gasoline,False,gasoline,3.0,sedan,False,owned,all,9999.0,True,Минская обл.,9,42,True,False,False,False,False,False,False,False,False,False,86\r\n"
     ]
    }
   ],
   "source": [
    "# Вывод в консоль части данных\n",
    "\n",
    "!head -n5 Data/cars.csv"
   ]
  },
  {
   "cell_type": "code",
   "execution_count": 27,
   "id": "3912f0eb",
   "metadata": {
    "ExecuteTime": {
     "end_time": "2022-08-29T07:47:32.946509Z",
     "start_time": "2022-08-29T07:47:32.614539Z"
    }
   },
   "outputs": [
    {
     "data": {
      "text/plain": [
       "DataFrame[manufacturer_name: string, model_name: string, transmission: string, color: string, odometer_value: string, year_produced: string, engine_fuel: string, engine_has_gas: string, engine_type: string, engine_capacity: string, body_type: string, has_warranty: string, state: string, drivetrain: string, price_usd: string, is_exchangeable: string, location_region: string, number_of_photos: string, up_counter: string, feature_0: string, feature_1: string, feature_2: string, feature_3: string, feature_4: string, feature_5: string, feature_6: string, feature_7: string, feature_8: string, feature_9: string, duration_listed: string]"
      ]
     },
     "execution_count": 27,
     "metadata": {},
     "output_type": "execute_result"
    }
   ],
   "source": [
    "df = spark.read.format('csv').option('header', 'true').load('Data/cars.csv')\n",
    "df"
   ]
  },
  {
   "cell_type": "code",
   "execution_count": 28,
   "id": "44d4281c",
   "metadata": {
    "ExecuteTime": {
     "end_time": "2022-08-29T07:47:32.949008Z",
     "start_time": "2022-08-29T07:47:32.947196Z"
    }
   },
   "outputs": [
    {
     "data": {
      "text/plain": [
       "pyspark.sql.dataframe.DataFrame"
      ]
     },
     "execution_count": 28,
     "metadata": {},
     "output_type": "execute_result"
    }
   ],
   "source": [
    "# Структура данных - pyspark DataFrame\n",
    "\n",
    "type(df)"
   ]
  },
  {
   "cell_type": "code",
   "execution_count": 29,
   "id": "b5b0ed11",
   "metadata": {
    "ExecuteTime": {
     "end_time": "2022-08-29T07:47:33.052374Z",
     "start_time": "2022-08-29T07:47:32.949691Z"
    }
   },
   "outputs": [
    {
     "name": "stdout",
     "output_type": "stream",
     "text": [
      "+-----------------+----------+------------+------+--------------+-------------+-----------+--------------+-----------+---------------+---------+------------+-----+----------+---------+---------------+---------------+----------------+----------+---------+---------+---------+---------+---------+---------+---------+---------+---------+---------+---------------+\n",
      "|manufacturer_name|model_name|transmission| color|odometer_value|year_produced|engine_fuel|engine_has_gas|engine_type|engine_capacity|body_type|has_warranty|state|drivetrain|price_usd|is_exchangeable|location_region|number_of_photos|up_counter|feature_0|feature_1|feature_2|feature_3|feature_4|feature_5|feature_6|feature_7|feature_8|feature_9|duration_listed|\n",
      "+-----------------+----------+------------+------+--------------+-------------+-----------+--------------+-----------+---------------+---------+------------+-----+----------+---------+---------------+---------------+----------------+----------+---------+---------+---------+---------+---------+---------+---------+---------+---------+---------+---------------+\n",
      "|           Subaru|   Outback|   automatic|silver|        190000|         2010|   gasoline|         False|   gasoline|            2.5|universal|       False|owned|       all|  10900.0|          False|   Минская обл.|               9|        13|    False|     True|     True|     True|    False|     True|    False|     True|     True|     True|             16|\n",
      "|           Subaru|   Outback|   automatic|  blue|        290000|         2002|   gasoline|         False|   gasoline|            3.0|universal|       False|owned|       all|   5000.0|           True|   Минская обл.|              12|        54|    False|     True|    False|    False|     True|     True|    False|    False|    False|     True|             83|\n",
      "|           Subaru|  Forester|   automatic|   red|        402000|         2001|   gasoline|         False|   gasoline|            2.5|      suv|       False|owned|       all|   2800.0|           True|   Минская обл.|               4|        72|    False|     True|    False|    False|    False|    False|    False|    False|     True|     True|            151|\n",
      "|           Subaru|   Impreza|  mechanical|  blue|         10000|         1999|   gasoline|         False|   gasoline|            3.0|    sedan|       False|owned|       all|   9999.0|           True|   Минская обл.|               9|        42|     True|    False|    False|    False|    False|    False|    False|    False|    False|    False|             86|\n",
      "|           Subaru|    Legacy|   automatic| black|        280000|         2001|   gasoline|         False|   gasoline|            2.5|universal|       False|owned|       all|  2134.11|           True|Гомельская обл.|              14|         7|    False|     True|    False|     True|     True|    False|    False|    False|    False|     True|              7|\n",
      "+-----------------+----------+------------+------+--------------+-------------+-----------+--------------+-----------+---------------+---------+------------+-----+----------+---------+---------------+---------------+----------------+----------+---------+---------+---------+---------+---------+---------+---------+---------+---------+---------+---------------+\n",
      "only showing top 5 rows\n",
      "\n"
     ]
    }
   ],
   "source": [
    "# Вывод первых 5 строк полученного DataFrame\n",
    "\n",
    "df.show(5)"
   ]
  },
  {
   "cell_type": "markdown",
   "id": "8158bd43",
   "metadata": {},
   "source": [
    "В силу большого числа признаков в рассматриваемых данных - вывод нечитаемый. \n",
    "\n",
    "**Иной метод вывода данных:**"
   ]
  },
  {
   "cell_type": "code",
   "execution_count": 30,
   "id": "d941ae43",
   "metadata": {
    "ExecuteTime": {
     "end_time": "2022-08-29T07:47:33.152539Z",
     "start_time": "2022-08-29T07:47:33.053110Z"
    }
   },
   "outputs": [
    {
     "name": "stdout",
     "output_type": "stream",
     "text": [
      "-RECORD 0-------------------------\n",
      " manufacturer_name | Subaru       \n",
      " model_name        | Outback      \n",
      " transmission      | automatic    \n",
      " color             | silver       \n",
      " odometer_value    | 190000       \n",
      " year_produced     | 2010         \n",
      " engine_fuel       | gasoline     \n",
      " engine_has_gas    | False        \n",
      " engine_type       | gasoline     \n",
      " engine_capacity   | 2.5          \n",
      " body_type         | universal    \n",
      " has_warranty      | False        \n",
      " state             | owned        \n",
      " drivetrain        | all          \n",
      " price_usd         | 10900.0      \n",
      " is_exchangeable   | False        \n",
      " location_region   | Минская обл. \n",
      " number_of_photos  | 9            \n",
      " up_counter        | 13           \n",
      " feature_0         | False        \n",
      " feature_1         | True         \n",
      " feature_2         | True         \n",
      " feature_3         | True         \n",
      " feature_4         | False        \n",
      " feature_5         | True         \n",
      " feature_6         | False        \n",
      " feature_7         | True         \n",
      " feature_8         | True         \n",
      " feature_9         | True         \n",
      " duration_listed   | 16           \n",
      "-RECORD 1-------------------------\n",
      " manufacturer_name | Subaru       \n",
      " model_name        | Outback      \n",
      " transmission      | automatic    \n",
      " color             | blue         \n",
      " odometer_value    | 290000       \n",
      " year_produced     | 2002         \n",
      " engine_fuel       | gasoline     \n",
      " engine_has_gas    | False        \n",
      " engine_type       | gasoline     \n",
      " engine_capacity   | 3.0          \n",
      " body_type         | universal    \n",
      " has_warranty      | False        \n",
      " state             | owned        \n",
      " drivetrain        | all          \n",
      " price_usd         | 5000.0       \n",
      " is_exchangeable   | True         \n",
      " location_region   | Минская обл. \n",
      " number_of_photos  | 12           \n",
      " up_counter        | 54           \n",
      " feature_0         | False        \n",
      " feature_1         | True         \n",
      " feature_2         | False        \n",
      " feature_3         | False        \n",
      " feature_4         | True         \n",
      " feature_5         | True         \n",
      " feature_6         | False        \n",
      " feature_7         | False        \n",
      " feature_8         | False        \n",
      " feature_9         | True         \n",
      " duration_listed   | 83           \n",
      "only showing top 2 rows\n",
      "\n"
     ]
    }
   ],
   "source": [
    "# Выводим две строки в вертикальном просмотре\n",
    "\n",
    "df.show(2, vertical=True)"
   ]
  },
  {
   "cell_type": "markdown",
   "id": "229a666d",
   "metadata": {},
   "source": [
    "# DataFrame API"
   ]
  },
  {
   "cell_type": "markdown",
   "id": "a12afc61",
   "metadata": {},
   "source": [
    "**`.select()`** для выбора колонок аналогично `sql`"
   ]
  },
  {
   "cell_type": "code",
   "execution_count": 31,
   "id": "bdbcb19d",
   "metadata": {
    "ExecuteTime": {
     "end_time": "2022-08-29T07:47:33.232943Z",
     "start_time": "2022-08-29T07:47:33.153336Z"
    }
   },
   "outputs": [
    {
     "name": "stdout",
     "output_type": "stream",
     "text": [
      "+-----------------+----------+------------+\n",
      "|manufacturer_name|model_name|transmission|\n",
      "+-----------------+----------+------------+\n",
      "|           Subaru|   Outback|   automatic|\n",
      "|           Subaru|   Outback|   automatic|\n",
      "|           Subaru|  Forester|   automatic|\n",
      "|           Subaru|   Impreza|  mechanical|\n",
      "|           Subaru|    Legacy|   automatic|\n",
      "+-----------------+----------+------------+\n",
      "only showing top 5 rows\n",
      "\n"
     ]
    }
   ],
   "source": [
    "df.select('manufacturer_name', 'model_name', 'transmission').show(5)"
   ]
  },
  {
   "cell_type": "code",
   "execution_count": 32,
   "id": "e18d2e90",
   "metadata": {
    "ExecuteTime": {
     "end_time": "2022-08-29T07:47:33.302853Z",
     "start_time": "2022-08-29T07:47:33.233723Z"
    }
   },
   "outputs": [
    {
     "name": "stdout",
     "output_type": "stream",
     "text": [
      "+-----------------+----------+------------+\n",
      "|manufacturer_name|model_name|transmission|\n",
      "+-----------------+----------+------------+\n",
      "|           Subaru|   Outback|   automatic|\n",
      "|           Subaru|   Outback|   automatic|\n",
      "|           Subaru|  Forester|   automatic|\n",
      "|           Subaru|   Impreza|  mechanical|\n",
      "|           Subaru|    Legacy|   automatic|\n",
      "+-----------------+----------+------------+\n",
      "only showing top 5 rows\n",
      "\n"
     ]
    }
   ],
   "source": [
    "df.select(df['manufacturer_name'], df['model_name'], df['transmission']).show(5)"
   ]
  },
  {
   "cell_type": "code",
   "execution_count": 33,
   "id": "feb31e86",
   "metadata": {
    "ExecuteTime": {
     "end_time": "2022-08-29T07:47:33.375866Z",
     "start_time": "2022-08-29T07:47:33.304843Z"
    }
   },
   "outputs": [
    {
     "name": "stdout",
     "output_type": "stream",
     "text": [
      "+-----------------+----------+------------+\n",
      "|manufacturer_name|model_name|transmission|\n",
      "+-----------------+----------+------------+\n",
      "|           Subaru|   Outback|   automatic|\n",
      "|           Subaru|   Outback|   automatic|\n",
      "|           Subaru|  Forester|   automatic|\n",
      "|           Subaru|   Impreza|  mechanical|\n",
      "|           Subaru|    Legacy|   automatic|\n",
      "+-----------------+----------+------------+\n",
      "only showing top 5 rows\n",
      "\n"
     ]
    }
   ],
   "source": [
    "import pyspark.sql.functions as F\n",
    "\n",
    "df.select(F.col('manufacturer_name'), F.col('model_name'), F.col('transmission')).show(5)"
   ]
  },
  {
   "cell_type": "markdown",
   "id": "17bc0d6a",
   "metadata": {},
   "source": [
    "**`.filter()`** - фильтрация данных"
   ]
  },
  {
   "cell_type": "code",
   "execution_count": 34,
   "id": "c514524c",
   "metadata": {
    "ExecuteTime": {
     "end_time": "2022-08-29T07:47:33.572822Z",
     "start_time": "2022-08-29T07:47:33.376698Z"
    }
   },
   "outputs": [
    {
     "name": "stdout",
     "output_type": "stream",
     "text": [
      "+-----------------+----------+------------+\n",
      "|manufacturer_name|model_name|transmission|\n",
      "+-----------------+----------+------------+\n",
      "|             Audi|        Q7|   automatic|\n",
      "|             Audi|        TT|   automatic|\n",
      "|             Audi|        A6|   automatic|\n",
      "|             Audi|        Q3|   automatic|\n",
      "|             Audi|        Q5|   automatic|\n",
      "+-----------------+----------+------------+\n",
      "only showing top 5 rows\n",
      "\n"
     ]
    }
   ],
   "source": [
    "df\\\n",
    ".select(\"manufacturer_name\", \"model_name\", \"transmission\")\\\n",
    ".filter(F.col(\"manufacturer_name\") == \"Audi\")\\\n",
    ".filter(F.col(\"transmission\") != \"mechanical\")\\\n",
    ".show(5)"
   ]
  },
  {
   "cell_type": "code",
   "execution_count": 35,
   "id": "ba4b0c50",
   "metadata": {
    "ExecuteTime": {
     "end_time": "2022-08-29T07:47:33.742845Z",
     "start_time": "2022-08-29T07:47:33.573614Z"
    }
   },
   "outputs": [
    {
     "name": "stdout",
     "output_type": "stream",
     "text": [
      "+-----------------+----------+------------+\n",
      "|manufacturer_name|model_name|transmission|\n",
      "+-----------------+----------+------------+\n",
      "|           Subaru|   Outback|   automatic|\n",
      "|           Subaru|   Outback|   automatic|\n",
      "|           Subaru|  Forester|   automatic|\n",
      "|           Subaru|    Legacy|   automatic|\n",
      "|           Subaru|   Outback|   automatic|\n",
      "+-----------------+----------+------------+\n",
      "only showing top 5 rows\n",
      "\n"
     ]
    }
   ],
   "source": [
    "df\\\n",
    ".select(F.col('manufacturer_name'), F.col('model_name'), F.col('transmission'))\\\n",
    ".filter((F.col('transmission') == 'automatic') & (F.col('manufacturer_name') == 'Subaru'))\\\n",
    ".show(5)"
   ]
  },
  {
   "cell_type": "code",
   "execution_count": 36,
   "id": "211c702d",
   "metadata": {
    "ExecuteTime": {
     "end_time": "2022-08-29T07:47:34.192210Z",
     "start_time": "2022-08-29T07:47:33.743677Z"
    }
   },
   "outputs": [
    {
     "name": "stdout",
     "output_type": "stream",
     "text": [
      "+-----------------+\n",
      "|manufacturer_name|\n",
      "+-----------------+\n",
      "|            Lexus|\n",
      "|           Jaguar|\n",
      "|            Rover|\n",
      "|           Lancia|\n",
      "|             Jeep|\n",
      "|       Mitsubishi|\n",
      "|              Kia|\n",
      "|             Mini|\n",
      "|            Lifan|\n",
      "|             LADA|\n",
      "|        SsangYong|\n",
      "|             Audi|\n",
      "|             Seat|\n",
      "|         Cadillac|\n",
      "|          Москвич|\n",
      "|       Alfa Romeo|\n",
      "|            Geely|\n",
      "|          Renault|\n",
      "|           Daewoo|\n",
      "|            Acura|\n",
      "+-----------------+\n",
      "only showing top 20 rows\n",
      "\n"
     ]
    }
   ],
   "source": [
    "df.select('manufacturer_name').filter(F.col('manufacturer_name') != 'Volkswagen').distinct().show()"
   ]
  },
  {
   "cell_type": "markdown",
   "id": "a32d7643",
   "metadata": {},
   "source": [
    "**`.count()`** подсчёт строк"
   ]
  },
  {
   "cell_type": "code",
   "execution_count": 37,
   "id": "8061e4ff",
   "metadata": {
    "ExecuteTime": {
     "end_time": "2022-08-29T07:47:34.419329Z",
     "start_time": "2022-08-29T07:47:34.193058Z"
    }
   },
   "outputs": [
    {
     "data": {
      "text/plain": [
       "38531"
      ]
     },
     "execution_count": 37,
     "metadata": {},
     "output_type": "execute_result"
    }
   ],
   "source": [
    "# Всего записей\n",
    "\n",
    "df.count()"
   ]
  },
  {
   "cell_type": "code",
   "execution_count": 38,
   "id": "e6eca21f",
   "metadata": {
    "ExecuteTime": {
     "end_time": "2022-08-29T07:47:34.699309Z",
     "start_time": "2022-08-29T07:47:34.420192Z"
    }
   },
   "outputs": [
    {
     "data": {
      "text/plain": [
       "55"
      ]
     },
     "execution_count": 38,
     "metadata": {},
     "output_type": "execute_result"
    }
   ],
   "source": [
    "# Уникальные строки\n",
    "\n",
    "df.select('manufacturer_name').distinct().count()"
   ]
  },
  {
   "cell_type": "code",
   "execution_count": 39,
   "id": "f6ee7a3a",
   "metadata": {
    "ExecuteTime": {
     "end_time": "2022-08-29T07:47:35.020434Z",
     "start_time": "2022-08-29T07:47:34.700090Z"
    }
   },
   "outputs": [
    {
     "data": {
      "text/plain": [
       "2"
      ]
     },
     "execution_count": 39,
     "metadata": {},
     "output_type": "execute_result"
    }
   ],
   "source": [
    "df.select('transmission').distinct().count()"
   ]
  },
  {
   "cell_type": "markdown",
   "id": "87d20b5f",
   "metadata": {},
   "source": [
    "**`.groupBy()`** и **`.orderBy()`** - группировка и сортировка данных"
   ]
  },
  {
   "cell_type": "code",
   "execution_count": 40,
   "id": "2490306f",
   "metadata": {
    "ExecuteTime": {
     "end_time": "2022-08-29T07:47:35.573686Z",
     "start_time": "2022-08-29T07:47:35.021228Z"
    }
   },
   "outputs": [
    {
     "name": "stdout",
     "output_type": "stream",
     "text": [
      "+-----------------+-----+\n",
      "|manufacturer_name|count|\n",
      "+-----------------+-----+\n",
      "|       Volkswagen| 4243|\n",
      "|            Lexus|  213|\n",
      "|           Jaguar|   53|\n",
      "|            Rover|  235|\n",
      "|           Lancia|   92|\n",
      "|             Jeep|  107|\n",
      "|       Mitsubishi|  887|\n",
      "|              Kia|  912|\n",
      "|             Mini|   68|\n",
      "|            Lifan|   47|\n",
      "|             LADA|  146|\n",
      "|        SsangYong|   79|\n",
      "|             Audi| 2468|\n",
      "|             Seat|  303|\n",
      "|         Cadillac|   43|\n",
      "|          Москвич|   55|\n",
      "|       Alfa Romeo|  207|\n",
      "|            Geely|   71|\n",
      "|          Renault| 2493|\n",
      "|           Daewoo|  221|\n",
      "+-----------------+-----+\n",
      "only showing top 20 rows\n",
      "\n"
     ]
    }
   ],
   "source": [
    "df.groupBy('manufacturer_name').count().show()"
   ]
  },
  {
   "cell_type": "code",
   "execution_count": 41,
   "id": "88690d69",
   "metadata": {
    "ExecuteTime": {
     "end_time": "2022-08-29T07:47:36.099357Z",
     "start_time": "2022-08-29T07:47:35.574574Z"
    }
   },
   "outputs": [
    {
     "name": "stdout",
     "output_type": "stream",
     "text": [
      "+-----------------+-----+\n",
      "|manufacturer_name|count|\n",
      "+-----------------+-----+\n",
      "|              BMW|  105|\n",
      "|             Audi|   87|\n",
      "|       Volkswagen|   73|\n",
      "|    Mercedes-Benz|   70|\n",
      "|           Toyota|   39|\n",
      "+-----------------+-----+\n",
      "only showing top 5 rows\n",
      "\n"
     ]
    }
   ],
   "source": [
    "# Смотрим на кол-ов машин (TOP 5) в рамках каждого производителя, где год производства 2010 и цена в USD больше 10000\n",
    "\n",
    "df.select('manufacturer_name').filter((F.col('year_produced') == 2010) & (F.col('price_usd') > 10000))\\\n",
    ".groupBy('manufacturer_name').count().orderBy(F.col('count').desc()).show(5)"
   ]
  },
  {
   "cell_type": "markdown",
   "id": "cc404eb5",
   "metadata": {},
   "source": [
    "**`.withColumnRenamed()` and `.withColumn()`** - переименовать существующую колонку, создать новую"
   ]
  },
  {
   "cell_type": "markdown",
   "id": "4382d01f",
   "metadata": {},
   "source": [
    "Переименовать существующую колонку:\n",
    "\n",
    "Parameters\n",
    "----------\n",
    "existing : str\n",
    "\n",
    "    string, name of the existing column to rename.\n",
    "    \n",
    "new : str\n",
    "\n",
    "    string, new name of the column."
   ]
  },
  {
   "cell_type": "code",
   "execution_count": 42,
   "id": "28f21ca3",
   "metadata": {
    "ExecuteTime": {
     "end_time": "2022-08-29T07:47:36.355305Z",
     "start_time": "2022-08-29T07:47:36.100201Z"
    }
   },
   "outputs": [
    {
     "name": "stdout",
     "output_type": "stream",
     "text": [
      "+------------+-----+\n",
      "|manufacturer|count|\n",
      "+------------+-----+\n",
      "|  Volkswagen| 4243|\n",
      "|       Lexus|  213|\n",
      "|      Jaguar|   53|\n",
      "|       Rover|  235|\n",
      "|      Lancia|   92|\n",
      "|        Jeep|  107|\n",
      "|  Mitsubishi|  887|\n",
      "|         Kia|  912|\n",
      "|        Mini|   68|\n",
      "|       Lifan|   47|\n",
      "|        LADA|  146|\n",
      "|   SsangYong|   79|\n",
      "|        Audi| 2468|\n",
      "|        Seat|  303|\n",
      "|    Cadillac|   43|\n",
      "|     Москвич|   55|\n",
      "|  Alfa Romeo|  207|\n",
      "|       Geely|   71|\n",
      "|     Renault| 2493|\n",
      "|      Daewoo|  221|\n",
      "+------------+-----+\n",
      "only showing top 20 rows\n",
      "\n"
     ]
    }
   ],
   "source": [
    "df.withColumnRenamed('manufacturer_name', 'manufacturer')\\\n",
    ".select('manufacturer').groupBy('manufacturer').count().show()"
   ]
  },
  {
   "cell_type": "markdown",
   "id": "bdfd5db8",
   "metadata": {},
   "source": [
    "Создать новую колонку. \n",
    "\n",
    "Первый аргумент это название новой колонки, второй агрумент это выражение (обязательно использовать col() если ссылаемся на другую колонку).\n",
    "\n",
    "Parameters\n",
    "----------\n",
    "colName : str\n",
    "\n",
    "    string, name of the new column.\n",
    "    \n",
    "col : :class:`Column`\n",
    "\n",
    "    a :class:`Column` expression for the new column."
   ]
  },
  {
   "cell_type": "code",
   "execution_count": 43,
   "id": "0039f120",
   "metadata": {
    "ExecuteTime": {
     "end_time": "2022-08-29T07:47:36.590941Z",
     "start_time": "2022-08-29T07:47:36.356848Z"
    }
   },
   "outputs": [
    {
     "name": "stdout",
     "output_type": "stream",
     "text": [
      "+-------------+---------+\n",
      "|year_produced|next_year|\n",
      "+-------------+---------+\n",
      "|         1942|     1943|\n",
      "|         1950|     1951|\n",
      "|         1956|     1957|\n",
      "|         1959|     1960|\n",
      "|         1960|     1961|\n",
      "|         1960|     1961|\n",
      "|         1960|     1961|\n",
      "|         1960|     1961|\n",
      "|         1960|     1961|\n",
      "|         1960|     1961|\n",
      "|         1960|     1961|\n",
      "|         1960|     1961|\n",
      "|         1960|     1961|\n",
      "|         1960|     1961|\n",
      "|         1960|     1961|\n",
      "|         1960|     1961|\n",
      "|         1960|     1961|\n",
      "|         1960|     1961|\n",
      "|         1960|     1961|\n",
      "|         1960|     1961|\n",
      "+-------------+---------+\n",
      "only showing top 20 rows\n",
      "\n"
     ]
    }
   ],
   "source": [
    "df.withColumn('next_year', (F.col('year_produced') + 1).astype('int'))\\\n",
    ".select('year_produced', 'next_year').orderBy('year_produced').show()"
   ]
  },
  {
   "cell_type": "markdown",
   "id": "b02a442d",
   "metadata": {},
   "source": [
    "**`.printSchema()` and `.describe()`** - схема данных и сводная информация по данным"
   ]
  },
  {
   "cell_type": "code",
   "execution_count": 44,
   "id": "cce1f553",
   "metadata": {
    "ExecuteTime": {
     "end_time": "2022-08-29T07:47:36.593537Z",
     "start_time": "2022-08-29T07:47:36.591690Z"
    }
   },
   "outputs": [
    {
     "name": "stdout",
     "output_type": "stream",
     "text": [
      "root\n",
      " |-- manufacturer_name: string (nullable = true)\n",
      " |-- model_name: string (nullable = true)\n",
      " |-- transmission: string (nullable = true)\n",
      " |-- color: string (nullable = true)\n",
      " |-- odometer_value: string (nullable = true)\n",
      " |-- year_produced: string (nullable = true)\n",
      " |-- engine_fuel: string (nullable = true)\n",
      " |-- engine_has_gas: string (nullable = true)\n",
      " |-- engine_type: string (nullable = true)\n",
      " |-- engine_capacity: string (nullable = true)\n",
      " |-- body_type: string (nullable = true)\n",
      " |-- has_warranty: string (nullable = true)\n",
      " |-- state: string (nullable = true)\n",
      " |-- drivetrain: string (nullable = true)\n",
      " |-- price_usd: string (nullable = true)\n",
      " |-- is_exchangeable: string (nullable = true)\n",
      " |-- location_region: string (nullable = true)\n",
      " |-- number_of_photos: string (nullable = true)\n",
      " |-- up_counter: string (nullable = true)\n",
      " |-- feature_0: string (nullable = true)\n",
      " |-- feature_1: string (nullable = true)\n",
      " |-- feature_2: string (nullable = true)\n",
      " |-- feature_3: string (nullable = true)\n",
      " |-- feature_4: string (nullable = true)\n",
      " |-- feature_5: string (nullable = true)\n",
      " |-- feature_6: string (nullable = true)\n",
      " |-- feature_7: string (nullable = true)\n",
      " |-- feature_8: string (nullable = true)\n",
      " |-- feature_9: string (nullable = true)\n",
      " |-- duration_listed: string (nullable = true)\n",
      "\n"
     ]
    }
   ],
   "source": [
    "# Вывести схему датафрейма (типы колонок)\n",
    "\n",
    "df.printSchema()"
   ]
  },
  {
   "cell_type": "code",
   "execution_count": 45,
   "id": "5780b412",
   "metadata": {
    "ExecuteTime": {
     "end_time": "2022-08-29T07:47:36.595765Z",
     "start_time": "2022-08-29T07:47:36.594091Z"
    }
   },
   "outputs": [
    {
     "data": {
      "text/plain": [
       "StructType([StructField('manufacturer_name', StringType(), True), StructField('model_name', StringType(), True), StructField('transmission', StringType(), True), StructField('color', StringType(), True), StructField('odometer_value', StringType(), True), StructField('year_produced', StringType(), True), StructField('engine_fuel', StringType(), True), StructField('engine_has_gas', StringType(), True), StructField('engine_type', StringType(), True), StructField('engine_capacity', StringType(), True), StructField('body_type', StringType(), True), StructField('has_warranty', StringType(), True), StructField('state', StringType(), True), StructField('drivetrain', StringType(), True), StructField('price_usd', StringType(), True), StructField('is_exchangeable', StringType(), True), StructField('location_region', StringType(), True), StructField('number_of_photos', StringType(), True), StructField('up_counter', StringType(), True), StructField('feature_0', StringType(), True), StructField('feature_1', StringType(), True), StructField('feature_2', StringType(), True), StructField('feature_3', StringType(), True), StructField('feature_4', StringType(), True), StructField('feature_5', StringType(), True), StructField('feature_6', StringType(), True), StructField('feature_7', StringType(), True), StructField('feature_8', StringType(), True), StructField('feature_9', StringType(), True), StructField('duration_listed', StringType(), True)])"
      ]
     },
     "execution_count": 45,
     "metadata": {},
     "output_type": "execute_result"
    }
   ],
   "source": [
    "df.schema"
   ]
  },
  {
   "cell_type": "code",
   "execution_count": 46,
   "id": "f0d368fa",
   "metadata": {
    "ExecuteTime": {
     "end_time": "2022-08-29T07:47:37.902291Z",
     "start_time": "2022-08-29T07:47:36.596461Z"
    }
   },
   "outputs": [
    {
     "name": "stderr",
     "output_type": "stream",
     "text": [
      "[Stage 75:=============================>                            (1 + 1) / 2]\r"
     ]
    },
    {
     "name": "stdout",
     "output_type": "stream",
     "text": [
      "+-------+-----------------+------------------+------------------+-----------------+\n",
      "|summary|manufacturer_name|        model_name|     year_produced|        price_usd|\n",
      "+-------+-----------------+------------------+------------------+-----------------+\n",
      "|  count|            38531|             38531|             38531|            38531|\n",
      "|   mean|             null|1168.2918056562726|2002.9437336170874|6639.971021255616|\n",
      "| stddev|             null| 9820.119520829547| 8.065730511309367|6428.152018202914|\n",
      "|    min|            Acura|               100|              1942|              1.0|\n",
      "|    max|              УАЗ|            Таврия|              2019|           9999.0|\n",
      "+-------+-----------------+------------------+------------------+-----------------+\n",
      "\n"
     ]
    },
    {
     "name": "stderr",
     "output_type": "stream",
     "text": [
      "\r",
      "                                                                                \r"
     ]
    }
   ],
   "source": [
    "# Сводная инфа\n",
    "\n",
    "df.select('manufacturer_name', 'model_name', 'year_produced', 'price_usd').describe().show()"
   ]
  },
  {
   "cell_type": "code",
   "execution_count": null,
   "id": "7191a930",
   "metadata": {},
   "outputs": [],
   "source": []
  }
 ],
 "metadata": {
  "kernelspec": {
   "display_name": "Python 3 (ipykernel)",
   "language": "python",
   "name": "python3"
  },
  "language_info": {
   "codemirror_mode": {
    "name": "ipython",
    "version": 3
   },
   "file_extension": ".py",
   "mimetype": "text/x-python",
   "name": "python",
   "nbconvert_exporter": "python",
   "pygments_lexer": "ipython3",
   "version": "3.9.12"
  },
  "varInspector": {
   "cols": {
    "lenName": 16,
    "lenType": 16,
    "lenVar": 40
   },
   "kernels_config": {
    "python": {
     "delete_cmd_postfix": "",
     "delete_cmd_prefix": "del ",
     "library": "var_list.py",
     "varRefreshCmd": "print(var_dic_list())"
    },
    "r": {
     "delete_cmd_postfix": ") ",
     "delete_cmd_prefix": "rm(",
     "library": "var_list.r",
     "varRefreshCmd": "cat(var_dic_list()) "
    }
   },
   "types_to_exclude": [
    "module",
    "function",
    "builtin_function_or_method",
    "instance",
    "_Feature"
   ],
   "window_display": false
  }
 },
 "nbformat": 4,
 "nbformat_minor": 5
}
