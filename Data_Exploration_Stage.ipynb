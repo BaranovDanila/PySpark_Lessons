{
 "cells": [
  {
   "cell_type": "code",
   "execution_count": 1,
   "id": "9cbe2249",
   "metadata": {
    "ExecuteTime": {
     "end_time": "2022-08-29T07:19:08.546323Z",
     "start_time": "2022-08-29T07:19:08.541729Z"
    }
   },
   "outputs": [],
   "source": [
    "import warnings\n",
    "warnings.filterwarnings('ignore')"
   ]
  },
  {
   "cell_type": "code",
   "execution_count": 2,
   "id": "8c358c1d",
   "metadata": {
    "ExecuteTime": {
     "end_time": "2022-08-29T07:19:13.718956Z",
     "start_time": "2022-08-29T07:19:08.549831Z"
    }
   },
   "outputs": [
    {
     "name": "stdout",
     "output_type": "stream",
     "text": [
      "22/08/29 10:19:11 WARN Utils: Your hostname, MacBook-Air-Danila.local resolves to a loopback address: 127.0.0.1; using 172.20.10.12 instead (on interface en0)\n",
      "22/08/29 10:19:11 WARN Utils: Set SPARK_LOCAL_IP if you need to bind to another address\n"
     ]
    },
    {
     "name": "stderr",
     "output_type": "stream",
     "text": [
      "Setting default log level to \"WARN\".\n",
      "To adjust logging level use sc.setLogLevel(newLevel). For SparkR, use setLogLevel(newLevel).\n"
     ]
    },
    {
     "name": "stdout",
     "output_type": "stream",
     "text": [
      "22/08/29 10:19:12 WARN NativeCodeLoader: Unable to load native-hadoop library for your platform... using builtin-java classes where applicable\n"
     ]
    }
   ],
   "source": [
    "# Создание сессии Spark\n",
    "\n",
    "from pyspark.sql import SparkSession\n",
    "\n",
    "spark = SparkSession.builder.appName('Data_exploration').getOrCreate()"
   ]
  },
  {
   "cell_type": "markdown",
   "id": "48c1e68a",
   "metadata": {},
   "source": [
    "# Чтение данных"
   ]
  },
  {
   "cell_type": "code",
   "execution_count": 3,
   "id": "53c3e2d8",
   "metadata": {
    "ExecuteTime": {
     "end_time": "2022-08-29T07:19:13.839184Z",
     "start_time": "2022-08-29T07:19:13.719991Z"
    }
   },
   "outputs": [
    {
     "name": "stdout",
     "output_type": "stream",
     "text": [
      "manufacturer_name,model_name,transmission,color,odometer_value,year_produced,engine_fuel,engine_has_gas,engine_type,engine_capacity,body_type,has_warranty,state,drivetrain,price_usd,is_exchangeable,location_region,number_of_photos,up_counter,feature_0,feature_1,feature_2,feature_3,feature_4,feature_5,feature_6,feature_7,feature_8,feature_9,duration_listed\r\n",
      "Subaru,Outback,automatic,silver,190000,2010,gasoline,False,gasoline,2.5,universal,False,owned,all,10900.0,False,Минская обл.,9,13,False,True,True,True,False,True,False,True,True,True,16\r\n",
      "Subaru,Outback,automatic,blue,290000,2002,gasoline,False,gasoline,3.0,universal,False,owned,all,5000.0,True,Минская обл.,12,54,False,True,False,False,True,True,False,False,False,True,83\r\n",
      "Subaru,Forester,automatic,red,402000,2001,gasoline,False,gasoline,2.5,suv,False,owned,all,2800.0,True,Минская обл.,4,72,False,True,False,False,False,False,False,False,True,True,151\r\n",
      "Subaru,Impreza,mechanical,blue,10000,1999,gasoline,False,gasoline,3.0,sedan,False,owned,all,9999.0,True,Минская обл.,9,42,True,False,False,False,False,False,False,False,False,False,86\r\n"
     ]
    }
   ],
   "source": [
    "# Вывод в консоль части данных\n",
    "\n",
    "!head -n5 Data/cars.csv"
   ]
  },
  {
   "cell_type": "code",
   "execution_count": 4,
   "id": "3912f0eb",
   "metadata": {
    "ExecuteTime": {
     "end_time": "2022-08-29T07:19:20.288862Z",
     "start_time": "2022-08-29T07:19:13.841441Z"
    }
   },
   "outputs": [
    {
     "name": "stderr",
     "output_type": "stream",
     "text": [
      "                                                                                \r"
     ]
    },
    {
     "data": {
      "text/plain": [
       "DataFrame[manufacturer_name: string, model_name: string, transmission: string, color: string, odometer_value: string, year_produced: string, engine_fuel: string, engine_has_gas: string, engine_type: string, engine_capacity: string, body_type: string, has_warranty: string, state: string, drivetrain: string, price_usd: string, is_exchangeable: string, location_region: string, number_of_photos: string, up_counter: string, feature_0: string, feature_1: string, feature_2: string, feature_3: string, feature_4: string, feature_5: string, feature_6: string, feature_7: string, feature_8: string, feature_9: string, duration_listed: string]"
      ]
     },
     "execution_count": 4,
     "metadata": {},
     "output_type": "execute_result"
    }
   ],
   "source": [
    "df = spark.read.format('csv').option('header', 'true').load('Data/cars.csv')\n",
    "df"
   ]
  },
  {
   "cell_type": "code",
   "execution_count": 5,
   "id": "44d4281c",
   "metadata": {
    "ExecuteTime": {
     "end_time": "2022-08-29T07:19:20.291711Z",
     "start_time": "2022-08-29T07:19:20.289630Z"
    }
   },
   "outputs": [
    {
     "data": {
      "text/plain": [
       "pyspark.sql.dataframe.DataFrame"
      ]
     },
     "execution_count": 5,
     "metadata": {},
     "output_type": "execute_result"
    }
   ],
   "source": [
    "# Структура данных - pyspark DataFrame\n",
    "\n",
    "type(df)"
   ]
  },
  {
   "cell_type": "code",
   "execution_count": 6,
   "id": "b5b0ed11",
   "metadata": {
    "ExecuteTime": {
     "end_time": "2022-08-29T07:19:21.043931Z",
     "start_time": "2022-08-29T07:19:20.292334Z"
    }
   },
   "outputs": [
    {
     "name": "stdout",
     "output_type": "stream",
     "text": [
      "22/08/29 10:19:20 WARN package: Truncated the string representation of a plan since it was too large. This behavior can be adjusted by setting 'spark.sql.debug.maxToStringFields'.\n",
      "+-----------------+----------+------------+------+--------------+-------------+-----------+--------------+-----------+---------------+---------+------------+-----+----------+---------+---------------+---------------+----------------+----------+---------+---------+---------+---------+---------+---------+---------+---------+---------+---------+---------------+\n",
      "|manufacturer_name|model_name|transmission| color|odometer_value|year_produced|engine_fuel|engine_has_gas|engine_type|engine_capacity|body_type|has_warranty|state|drivetrain|price_usd|is_exchangeable|location_region|number_of_photos|up_counter|feature_0|feature_1|feature_2|feature_3|feature_4|feature_5|feature_6|feature_7|feature_8|feature_9|duration_listed|\n",
      "+-----------------+----------+------------+------+--------------+-------------+-----------+--------------+-----------+---------------+---------+------------+-----+----------+---------+---------------+---------------+----------------+----------+---------+---------+---------+---------+---------+---------+---------+---------+---------+---------+---------------+\n",
      "|           Subaru|   Outback|   automatic|silver|        190000|         2010|   gasoline|         False|   gasoline|            2.5|universal|       False|owned|       all|  10900.0|          False|   Минская обл.|               9|        13|    False|     True|     True|     True|    False|     True|    False|     True|     True|     True|             16|\n",
      "|           Subaru|   Outback|   automatic|  blue|        290000|         2002|   gasoline|         False|   gasoline|            3.0|universal|       False|owned|       all|   5000.0|           True|   Минская обл.|              12|        54|    False|     True|    False|    False|     True|     True|    False|    False|    False|     True|             83|\n",
      "|           Subaru|  Forester|   automatic|   red|        402000|         2001|   gasoline|         False|   gasoline|            2.5|      suv|       False|owned|       all|   2800.0|           True|   Минская обл.|               4|        72|    False|     True|    False|    False|    False|    False|    False|    False|     True|     True|            151|\n",
      "|           Subaru|   Impreza|  mechanical|  blue|         10000|         1999|   gasoline|         False|   gasoline|            3.0|    sedan|       False|owned|       all|   9999.0|           True|   Минская обл.|               9|        42|     True|    False|    False|    False|    False|    False|    False|    False|    False|    False|             86|\n",
      "|           Subaru|    Legacy|   automatic| black|        280000|         2001|   gasoline|         False|   gasoline|            2.5|universal|       False|owned|       all|  2134.11|           True|Гомельская обл.|              14|         7|    False|     True|    False|     True|     True|    False|    False|    False|    False|     True|              7|\n",
      "+-----------------+----------+------------+------+--------------+-------------+-----------+--------------+-----------+---------------+---------+------------+-----+----------+---------+---------------+---------------+----------------+----------+---------+---------+---------+---------+---------+---------+---------+---------+---------+---------+---------------+\n",
      "only showing top 5 rows\n",
      "\n"
     ]
    }
   ],
   "source": [
    "# Вывод первых 5 строк полученного DataFrame\n",
    "\n",
    "df.show(5)"
   ]
  },
  {
   "cell_type": "markdown",
   "id": "8158bd43",
   "metadata": {},
   "source": [
    "В силу большого числа признаков в рассматриваемых данных - вывод нечитаемый. \n",
    "\n",
    "**Иной метод вывода данных:**"
   ]
  },
  {
   "cell_type": "code",
   "execution_count": 7,
   "id": "d941ae43",
   "metadata": {
    "ExecuteTime": {
     "end_time": "2022-08-29T07:19:21.431646Z",
     "start_time": "2022-08-29T07:19:21.044842Z"
    }
   },
   "outputs": [
    {
     "name": "stdout",
     "output_type": "stream",
     "text": [
      "-RECORD 0-------------------------\n",
      " manufacturer_name | Subaru       \n",
      " model_name        | Outback      \n",
      " transmission      | automatic    \n",
      " color             | silver       \n",
      " odometer_value    | 190000       \n",
      " year_produced     | 2010         \n",
      " engine_fuel       | gasoline     \n",
      " engine_has_gas    | False        \n",
      " engine_type       | gasoline     \n",
      " engine_capacity   | 2.5          \n",
      " body_type         | universal    \n",
      " has_warranty      | False        \n",
      " state             | owned        \n",
      " drivetrain        | all          \n",
      " price_usd         | 10900.0      \n",
      " is_exchangeable   | False        \n",
      " location_region   | Минская обл. \n",
      " number_of_photos  | 9            \n",
      " up_counter        | 13           \n",
      " feature_0         | False        \n",
      " feature_1         | True         \n",
      " feature_2         | True         \n",
      " feature_3         | True         \n",
      " feature_4         | False        \n",
      " feature_5         | True         \n",
      " feature_6         | False        \n",
      " feature_7         | True         \n",
      " feature_8         | True         \n",
      " feature_9         | True         \n",
      " duration_listed   | 16           \n",
      "-RECORD 1-------------------------\n",
      " manufacturer_name | Subaru       \n",
      " model_name        | Outback      \n",
      " transmission      | automatic    \n",
      " color             | blue         \n",
      " odometer_value    | 290000       \n",
      " year_produced     | 2002         \n",
      " engine_fuel       | gasoline     \n",
      " engine_has_gas    | False        \n",
      " engine_type       | gasoline     \n",
      " engine_capacity   | 3.0          \n",
      " body_type         | universal    \n",
      " has_warranty      | False        \n",
      " state             | owned        \n",
      " drivetrain        | all          \n",
      " price_usd         | 5000.0       \n",
      " is_exchangeable   | True         \n",
      " location_region   | Минская обл. \n",
      " number_of_photos  | 12           \n",
      " up_counter        | 54           \n",
      " feature_0         | False        \n",
      " feature_1         | True         \n",
      " feature_2         | False        \n",
      " feature_3         | False        \n",
      " feature_4         | True         \n",
      " feature_5         | True         \n",
      " feature_6         | False        \n",
      " feature_7         | False        \n",
      " feature_8         | False        \n",
      " feature_9         | True         \n",
      " duration_listed   | 83           \n",
      "only showing top 2 rows\n",
      "\n"
     ]
    }
   ],
   "source": [
    "# Выводим две строки в вертикальном просмотре\n",
    "\n",
    "df.show(2, vertical=True)"
   ]
  },
  {
   "cell_type": "markdown",
   "id": "229a666d",
   "metadata": {},
   "source": [
    "# DataFrame API"
   ]
  },
  {
   "cell_type": "markdown",
   "id": "a12afc61",
   "metadata": {},
   "source": [
    "**`.select()`** для выбора колонок аналогично `sql`"
   ]
  },
  {
   "cell_type": "code",
   "execution_count": 8,
   "id": "bdbcb19d",
   "metadata": {
    "ExecuteTime": {
     "end_time": "2022-08-29T07:19:21.750839Z",
     "start_time": "2022-08-29T07:19:21.432536Z"
    }
   },
   "outputs": [
    {
     "name": "stdout",
     "output_type": "stream",
     "text": [
      "+-----------------+----------+------------+\n",
      "|manufacturer_name|model_name|transmission|\n",
      "+-----------------+----------+------------+\n",
      "|           Subaru|   Outback|   automatic|\n",
      "|           Subaru|   Outback|   automatic|\n",
      "|           Subaru|  Forester|   automatic|\n",
      "|           Subaru|   Impreza|  mechanical|\n",
      "|           Subaru|    Legacy|   automatic|\n",
      "+-----------------+----------+------------+\n",
      "only showing top 5 rows\n",
      "\n"
     ]
    }
   ],
   "source": [
    "df.select('manufacturer_name', 'model_name', 'transmission').show(5)"
   ]
  },
  {
   "cell_type": "code",
   "execution_count": 9,
   "id": "e18d2e90",
   "metadata": {
    "ExecuteTime": {
     "end_time": "2022-08-29T07:19:21.895507Z",
     "start_time": "2022-08-29T07:19:21.751542Z"
    }
   },
   "outputs": [
    {
     "name": "stdout",
     "output_type": "stream",
     "text": [
      "+-----------------+----------+------------+\n",
      "|manufacturer_name|model_name|transmission|\n",
      "+-----------------+----------+------------+\n",
      "|           Subaru|   Outback|   automatic|\n",
      "|           Subaru|   Outback|   automatic|\n",
      "|           Subaru|  Forester|   automatic|\n",
      "|           Subaru|   Impreza|  mechanical|\n",
      "|           Subaru|    Legacy|   automatic|\n",
      "+-----------------+----------+------------+\n",
      "only showing top 5 rows\n",
      "\n"
     ]
    }
   ],
   "source": [
    "df.select(df['manufacturer_name'], df['model_name'], df['transmission']).show(5)"
   ]
  },
  {
   "cell_type": "code",
   "execution_count": 10,
   "id": "feb31e86",
   "metadata": {
    "ExecuteTime": {
     "end_time": "2022-08-29T07:19:22.038508Z",
     "start_time": "2022-08-29T07:19:21.897352Z"
    }
   },
   "outputs": [
    {
     "name": "stdout",
     "output_type": "stream",
     "text": [
      "+-----------------+----------+------------+\n",
      "|manufacturer_name|model_name|transmission|\n",
      "+-----------------+----------+------------+\n",
      "|           Subaru|   Outback|   automatic|\n",
      "|           Subaru|   Outback|   automatic|\n",
      "|           Subaru|  Forester|   automatic|\n",
      "|           Subaru|   Impreza|  mechanical|\n",
      "|           Subaru|    Legacy|   automatic|\n",
      "+-----------------+----------+------------+\n",
      "only showing top 5 rows\n",
      "\n"
     ]
    }
   ],
   "source": [
    "import pyspark.sql.functions as F\n",
    "\n",
    "df.select(F.col('manufacturer_name'), F.col('model_name'), F.col('transmission')).show(5)"
   ]
  },
  {
   "cell_type": "markdown",
   "id": "17bc0d6a",
   "metadata": {},
   "source": [
    "**`.filter()`** - фильтрация данных"
   ]
  },
  {
   "cell_type": "code",
   "execution_count": 11,
   "id": "c514524c",
   "metadata": {
    "ExecuteTime": {
     "end_time": "2022-08-29T07:19:22.652922Z",
     "start_time": "2022-08-29T07:19:22.039400Z"
    }
   },
   "outputs": [
    {
     "name": "stdout",
     "output_type": "stream",
     "text": [
      "+-----------------+----------+------------+\n",
      "|manufacturer_name|model_name|transmission|\n",
      "+-----------------+----------+------------+\n",
      "|             Audi|        Q7|   automatic|\n",
      "|             Audi|        TT|   automatic|\n",
      "|             Audi|        A6|   automatic|\n",
      "|             Audi|        Q3|   automatic|\n",
      "|             Audi|        Q5|   automatic|\n",
      "+-----------------+----------+------------+\n",
      "only showing top 5 rows\n",
      "\n"
     ]
    }
   ],
   "source": [
    "df\\\n",
    ".select(\"manufacturer_name\", \"model_name\", \"transmission\")\\\n",
    ".filter(F.col(\"manufacturer_name\") == \"Audi\")\\\n",
    ".filter(F.col(\"transmission\") != \"mechanical\")\\\n",
    ".show(5)"
   ]
  },
  {
   "cell_type": "code",
   "execution_count": 12,
   "id": "ba4b0c50",
   "metadata": {
    "ExecuteTime": {
     "end_time": "2022-08-29T07:19:22.946666Z",
     "start_time": "2022-08-29T07:19:22.653584Z"
    }
   },
   "outputs": [
    {
     "name": "stdout",
     "output_type": "stream",
     "text": [
      "+-----------------+----------+------------+\n",
      "|manufacturer_name|model_name|transmission|\n",
      "+-----------------+----------+------------+\n",
      "|           Subaru|   Outback|   automatic|\n",
      "|           Subaru|   Outback|   automatic|\n",
      "|           Subaru|  Forester|   automatic|\n",
      "|           Subaru|    Legacy|   automatic|\n",
      "|           Subaru|   Outback|   automatic|\n",
      "+-----------------+----------+------------+\n",
      "only showing top 5 rows\n",
      "\n"
     ]
    }
   ],
   "source": [
    "df\\\n",
    ".select(F.col('manufacturer_name'), F.col('model_name'), F.col('transmission'))\\\n",
    ".filter((F.col('transmission') == 'automatic') & (F.col('manufacturer_name') == 'Subaru'))\\\n",
    ".show(5)"
   ]
  },
  {
   "cell_type": "code",
   "execution_count": 13,
   "id": "211c702d",
   "metadata": {
    "ExecuteTime": {
     "end_time": "2022-08-29T07:19:24.525319Z",
     "start_time": "2022-08-29T07:19:22.947984Z"
    }
   },
   "outputs": [
    {
     "name": "stderr",
     "output_type": "stream",
     "text": [
      "\r",
      "[Stage 8:=============================>                             (1 + 1) / 2]\r"
     ]
    },
    {
     "name": "stdout",
     "output_type": "stream",
     "text": [
      "+-----------------+\n",
      "|manufacturer_name|\n",
      "+-----------------+\n",
      "|            Lexus|\n",
      "|           Jaguar|\n",
      "|            Rover|\n",
      "|           Lancia|\n",
      "|             Jeep|\n",
      "|       Mitsubishi|\n",
      "|              Kia|\n",
      "|             Mini|\n",
      "|            Lifan|\n",
      "|             LADA|\n",
      "|        SsangYong|\n",
      "|             Audi|\n",
      "|             Seat|\n",
      "|         Cadillac|\n",
      "|          Москвич|\n",
      "|       Alfa Romeo|\n",
      "|            Geely|\n",
      "|          Renault|\n",
      "|           Daewoo|\n",
      "|            Acura|\n",
      "+-----------------+\n",
      "only showing top 20 rows\n",
      "\n"
     ]
    },
    {
     "name": "stderr",
     "output_type": "stream",
     "text": [
      "\r",
      "                                                                                \r"
     ]
    }
   ],
   "source": [
    "df.select('manufacturer_name').filter(F.col('manufacturer_name') != 'Volkswagen').distinct().show()"
   ]
  },
  {
   "cell_type": "markdown",
   "id": "a32d7643",
   "metadata": {},
   "source": [
    "**`.count()`** подсчёт строк"
   ]
  },
  {
   "cell_type": "code",
   "execution_count": 14,
   "id": "8061e4ff",
   "metadata": {
    "ExecuteTime": {
     "end_time": "2022-08-29T07:19:24.975164Z",
     "start_time": "2022-08-29T07:19:24.527656Z"
    }
   },
   "outputs": [
    {
     "data": {
      "text/plain": [
       "38531"
      ]
     },
     "execution_count": 14,
     "metadata": {},
     "output_type": "execute_result"
    }
   ],
   "source": [
    "# Всего записей\n",
    "\n",
    "df.count()"
   ]
  },
  {
   "cell_type": "code",
   "execution_count": 15,
   "id": "e6eca21f",
   "metadata": {
    "ExecuteTime": {
     "end_time": "2022-08-29T07:19:25.622913Z",
     "start_time": "2022-08-29T07:19:24.975918Z"
    }
   },
   "outputs": [
    {
     "data": {
      "text/plain": [
       "55"
      ]
     },
     "execution_count": 15,
     "metadata": {},
     "output_type": "execute_result"
    }
   ],
   "source": [
    "# Уникальные строки\n",
    "\n",
    "df.select('manufacturer_name').distinct().count()"
   ]
  },
  {
   "cell_type": "code",
   "execution_count": 16,
   "id": "f6ee7a3a",
   "metadata": {
    "ExecuteTime": {
     "end_time": "2022-08-29T07:19:26.272477Z",
     "start_time": "2022-08-29T07:19:25.626160Z"
    }
   },
   "outputs": [
    {
     "data": {
      "text/plain": [
       "2"
      ]
     },
     "execution_count": 16,
     "metadata": {},
     "output_type": "execute_result"
    }
   ],
   "source": [
    "df.select('transmission').distinct().count()"
   ]
  },
  {
   "cell_type": "markdown",
   "id": "87d20b5f",
   "metadata": {},
   "source": [
    "**`.groupBy()`** и **`.orderBy()`** - группировка и сортировка данных"
   ]
  },
  {
   "cell_type": "code",
   "execution_count": 17,
   "id": "2490306f",
   "metadata": {
    "ExecuteTime": {
     "end_time": "2022-08-29T07:19:27.050182Z",
     "start_time": "2022-08-29T07:19:26.273374Z"
    }
   },
   "outputs": [
    {
     "name": "stdout",
     "output_type": "stream",
     "text": [
      "+-----------------+-----+\n",
      "|manufacturer_name|count|\n",
      "+-----------------+-----+\n",
      "|       Volkswagen| 4243|\n",
      "|            Lexus|  213|\n",
      "|           Jaguar|   53|\n",
      "|            Rover|  235|\n",
      "|           Lancia|   92|\n",
      "|             Jeep|  107|\n",
      "|       Mitsubishi|  887|\n",
      "|              Kia|  912|\n",
      "|             Mini|   68|\n",
      "|            Lifan|   47|\n",
      "|             LADA|  146|\n",
      "|        SsangYong|   79|\n",
      "|             Audi| 2468|\n",
      "|             Seat|  303|\n",
      "|         Cadillac|   43|\n",
      "|          Москвич|   55|\n",
      "|       Alfa Romeo|  207|\n",
      "|            Geely|   71|\n",
      "|          Renault| 2493|\n",
      "|           Daewoo|  221|\n",
      "+-----------------+-----+\n",
      "only showing top 20 rows\n",
      "\n"
     ]
    }
   ],
   "source": [
    "df.groupBy('manufacturer_name').count().show()"
   ]
  },
  {
   "cell_type": "code",
   "execution_count": 26,
   "id": "88690d69",
   "metadata": {
    "ExecuteTime": {
     "end_time": "2022-08-29T07:27:16.548581Z",
     "start_time": "2022-08-29T07:27:16.080354Z"
    }
   },
   "outputs": [
    {
     "name": "stdout",
     "output_type": "stream",
     "text": [
      "+-----------------+-----+\n",
      "|manufacturer_name|count|\n",
      "+-----------------+-----+\n",
      "|              BMW|  105|\n",
      "|             Audi|   87|\n",
      "|       Volkswagen|   73|\n",
      "|    Mercedes-Benz|   70|\n",
      "|           Toyota|   39|\n",
      "+-----------------+-----+\n",
      "only showing top 5 rows\n",
      "\n"
     ]
    }
   ],
   "source": [
    "# Смотрим на кол-ов машин (TOP 5) в рамках каждого производителя, где год производства 2010 и цена в USD больше 10000\n",
    "\n",
    "df.select('manufacturer_name').filter((F.col('year_produced') == 2010) & (F.col('price_usd') > 10000))\\\n",
    ".groupBy('manufacturer_name').count().orderBy(F.col('count').desc()).show(5)"
   ]
  },
  {
   "cell_type": "markdown",
   "id": "81278242",
   "metadata": {},
   "source": [
    "**`.withColumnRenamed()` and `.withColumn()`** - переименовать существующую колонку, создать новую"
   ]
  },
  {
   "cell_type": "markdown",
   "id": "30234afe",
   "metadata": {},
   "source": [
    "Переименовать существующую колонку:\n",
    "\n",
    "Parameters\n",
    "----------\n",
    "existing : str\n",
    "\n",
    "    string, name of the existing column to rename.\n",
    "    \n",
    "new : str\n",
    "\n",
    "    string, new name of the column."
   ]
  },
  {
   "cell_type": "code",
   "execution_count": 31,
   "id": "c403110e",
   "metadata": {
    "ExecuteTime": {
     "end_time": "2022-08-29T07:37:47.404683Z",
     "start_time": "2022-08-29T07:37:47.114241Z"
    }
   },
   "outputs": [
    {
     "name": "stdout",
     "output_type": "stream",
     "text": [
      "+------------+-----+\n",
      "|manufacturer|count|\n",
      "+------------+-----+\n",
      "|  Volkswagen| 4243|\n",
      "|       Lexus|  213|\n",
      "|      Jaguar|   53|\n",
      "|       Rover|  235|\n",
      "|      Lancia|   92|\n",
      "|        Jeep|  107|\n",
      "|  Mitsubishi|  887|\n",
      "|         Kia|  912|\n",
      "|        Mini|   68|\n",
      "|       Lifan|   47|\n",
      "|        LADA|  146|\n",
      "|   SsangYong|   79|\n",
      "|        Audi| 2468|\n",
      "|        Seat|  303|\n",
      "|    Cadillac|   43|\n",
      "|     Москвич|   55|\n",
      "|  Alfa Romeo|  207|\n",
      "|       Geely|   71|\n",
      "|     Renault| 2493|\n",
      "|      Daewoo|  221|\n",
      "+------------+-----+\n",
      "only showing top 20 rows\n",
      "\n"
     ]
    }
   ],
   "source": [
    "df.withColumnRenamed('manufacturer_name', 'manufacturer')\\\n",
    ".select('manufacturer').groupBy('manufacturer').count().show()"
   ]
  },
  {
   "cell_type": "markdown",
   "id": "af33d31b",
   "metadata": {},
   "source": [
    "Создать новую колонку. \n",
    "\n",
    "Первый аргумент это название новой колонки, второй агрумент это выражение (обязательно использовать col() если ссылаемся на другую колонку).\n",
    "\n",
    "Parameters\n",
    "----------\n",
    "colName : str\n",
    "\n",
    "    string, name of the new column.\n",
    "    \n",
    "col : :class:`Column`\n",
    "\n",
    "    a :class:`Column` expression for the new column."
   ]
  },
  {
   "cell_type": "code",
   "execution_count": 37,
   "id": "0ecd22d1",
   "metadata": {
    "ExecuteTime": {
     "end_time": "2022-08-29T07:43:40.145564Z",
     "start_time": "2022-08-29T07:43:39.619408Z"
    }
   },
   "outputs": [
    {
     "name": "stdout",
     "output_type": "stream",
     "text": [
      "+-------------+---------+\n",
      "|year_produced|next_year|\n",
      "+-------------+---------+\n",
      "|         1942|     1943|\n",
      "|         1950|     1951|\n",
      "|         1956|     1957|\n",
      "|         1959|     1960|\n",
      "|         1960|     1961|\n",
      "|         1960|     1961|\n",
      "|         1960|     1961|\n",
      "|         1960|     1961|\n",
      "|         1960|     1961|\n",
      "|         1960|     1961|\n",
      "|         1960|     1961|\n",
      "|         1960|     1961|\n",
      "|         1960|     1961|\n",
      "|         1960|     1961|\n",
      "|         1960|     1961|\n",
      "|         1960|     1961|\n",
      "|         1960|     1961|\n",
      "|         1960|     1961|\n",
      "|         1960|     1961|\n",
      "|         1960|     1961|\n",
      "+-------------+---------+\n",
      "only showing top 20 rows\n",
      "\n"
     ]
    }
   ],
   "source": [
    "df.withColumn('next_year', (F.col('year_produced') + 1).astype('int'))\\\n",
    ".select('year_produced', 'next_year').orderBy('year_produced').show()"
   ]
  },
  {
   "cell_type": "code",
   "execution_count": 32,
   "id": "2120233a",
   "metadata": {
    "ExecuteTime": {
     "end_time": "2022-08-29T07:41:40.151124Z",
     "start_time": "2022-08-29T07:41:40.145974Z"
    }
   },
   "outputs": [
    {
     "data": {
      "text/plain": [
       "['manufacturer_name',\n",
       " 'model_name',\n",
       " 'transmission',\n",
       " 'color',\n",
       " 'odometer_value',\n",
       " 'year_produced',\n",
       " 'engine_fuel',\n",
       " 'engine_has_gas',\n",
       " 'engine_type',\n",
       " 'engine_capacity',\n",
       " 'body_type',\n",
       " 'has_warranty',\n",
       " 'state',\n",
       " 'drivetrain',\n",
       " 'price_usd',\n",
       " 'is_exchangeable',\n",
       " 'location_region',\n",
       " 'number_of_photos',\n",
       " 'up_counter',\n",
       " 'feature_0',\n",
       " 'feature_1',\n",
       " 'feature_2',\n",
       " 'feature_3',\n",
       " 'feature_4',\n",
       " 'feature_5',\n",
       " 'feature_6',\n",
       " 'feature_7',\n",
       " 'feature_8',\n",
       " 'feature_9',\n",
       " 'duration_listed']"
      ]
     },
     "execution_count": 32,
     "metadata": {},
     "output_type": "execute_result"
    }
   ],
   "source": [
    "df.columns"
   ]
  },
  {
   "cell_type": "code",
   "execution_count": null,
   "id": "fd774dca",
   "metadata": {},
   "outputs": [],
   "source": []
  }
 ],
 "metadata": {
  "kernelspec": {
   "display_name": "Python 3 (ipykernel)",
   "language": "python",
   "name": "python3"
  },
  "language_info": {
   "codemirror_mode": {
    "name": "ipython",
    "version": 3
   },
   "file_extension": ".py",
   "mimetype": "text/x-python",
   "name": "python",
   "nbconvert_exporter": "python",
   "pygments_lexer": "ipython3",
   "version": "3.9.12"
  },
  "varInspector": {
   "cols": {
    "lenName": 16,
    "lenType": 16,
    "lenVar": 40
   },
   "kernels_config": {
    "python": {
     "delete_cmd_postfix": "",
     "delete_cmd_prefix": "del ",
     "library": "var_list.py",
     "varRefreshCmd": "print(var_dic_list())"
    },
    "r": {
     "delete_cmd_postfix": ") ",
     "delete_cmd_prefix": "rm(",
     "library": "var_list.r",
     "varRefreshCmd": "cat(var_dic_list()) "
    }
   },
   "types_to_exclude": [
    "module",
    "function",
    "builtin_function_or_method",
    "instance",
    "_Feature"
   ],
   "window_display": false
  }
 },
 "nbformat": 4,
 "nbformat_minor": 5
}
