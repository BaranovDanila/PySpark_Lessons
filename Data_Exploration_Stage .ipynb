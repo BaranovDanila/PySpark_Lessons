{
 "cells": [
  {
   "cell_type": "code",
   "execution_count": 4,
   "id": "9cbe2249",
   "metadata": {
    "ExecuteTime": {
     "end_time": "2022-08-15T08:51:40.887724Z",
     "start_time": "2022-08-15T08:51:40.884349Z"
    }
   },
   "outputs": [],
   "source": [
    "import warnings\n",
    "warnings.filterwarnings('ignore')"
   ]
  },
  {
   "cell_type": "code",
   "execution_count": 5,
   "id": "8c358c1d",
   "metadata": {
    "ExecuteTime": {
     "end_time": "2022-08-15T08:51:42.159186Z",
     "start_time": "2022-08-15T08:51:41.126525Z"
    }
   },
   "outputs": [],
   "source": [
    "# Создание сессии Spark\n",
    "\n",
    "from pyspark.sql import SparkSession\n",
    "\n",
    "spark = SparkSession.builder.appName('Data_exploration').getOrCreate()"
   ]
  },
  {
   "cell_type": "markdown",
   "id": "48c1e68a",
   "metadata": {},
   "source": [
    "# Чтение данных"
   ]
  },
  {
   "cell_type": "code",
   "execution_count": 7,
   "id": "53c3e2d8",
   "metadata": {
    "ExecuteTime": {
     "end_time": "2022-08-15T09:01:52.234710Z",
     "start_time": "2022-08-15T09:01:52.103450Z"
    }
   },
   "outputs": [
    {
     "name": "stdout",
     "output_type": "stream",
     "text": [
      "manufacturer_name,model_name,transmission,color,odometer_value,year_produced,engine_fuel,engine_has_gas,engine_type,engine_capacity,body_type,has_warranty,state,drivetrain,price_usd,is_exchangeable,location_region,number_of_photos,up_counter,feature_0,feature_1,feature_2,feature_3,feature_4,feature_5,feature_6,feature_7,feature_8,feature_9,duration_listed\r\n",
      "Subaru,Outback,automatic,silver,190000,2010,gasoline,False,gasoline,2.5,universal,False,owned,all,10900.0,False,Минская обл.,9,13,False,True,True,True,False,True,False,True,True,True,16\r\n",
      "Subaru,Outback,automatic,blue,290000,2002,gasoline,False,gasoline,3.0,universal,False,owned,all,5000.0,True,Минская обл.,12,54,False,True,False,False,True,True,False,False,False,True,83\r\n",
      "Subaru,Forester,automatic,red,402000,2001,gasoline,False,gasoline,2.5,suv,False,owned,all,2800.0,True,Минская обл.,4,72,False,True,False,False,False,False,False,False,True,True,151\r\n",
      "Subaru,Impreza,mechanical,blue,10000,1999,gasoline,False,gasoline,3.0,sedan,False,owned,all,9999.0,True,Минская обл.,9,42,True,False,False,False,False,False,False,False,False,False,86\r\n"
     ]
    }
   ],
   "source": [
    "# Вывод в консоль части данных\n",
    "\n",
    "!head -n5 Data/cars.csv"
   ]
  },
  {
   "cell_type": "code",
   "execution_count": 9,
   "id": "3912f0eb",
   "metadata": {
    "ExecuteTime": {
     "end_time": "2022-08-15T09:03:29.386262Z",
     "start_time": "2022-08-15T09:03:28.902506Z"
    }
   },
   "outputs": [],
   "source": [
    "df = spark.read.format('csv').option('header', 'true').load('Data/cars.csv')\n",
    "df"
   ]
  },
  {
   "cell_type": "code",
   "execution_count": 13,
   "id": "44d4281c",
   "metadata": {
    "ExecuteTime": {
     "end_time": "2022-08-15T09:04:29.162406Z",
     "start_time": "2022-08-15T09:04:29.158023Z"
    }
   },
   "outputs": [
    {
     "data": {
      "text/plain": [
       "pyspark.sql.dataframe.DataFrame"
      ]
     },
     "execution_count": 13,
     "metadata": {},
     "output_type": "execute_result"
    }
   ],
   "source": [
    "# Структура данных - pyspark DataFrame\n",
    "\n",
    "type(df)"
   ]
  },
  {
   "cell_type": "code",
   "execution_count": 15,
   "id": "b5b0ed11",
   "metadata": {
    "ExecuteTime": {
     "end_time": "2022-08-15T09:05:18.265540Z",
     "start_time": "2022-08-15T09:05:17.935828Z"
    }
   },
   "outputs": [
    {
     "name": "stdout",
     "output_type": "stream",
     "text": [
      "+-----------------+----------+------------+------+--------------+-------------+-----------+--------------+-----------+---------------+---------+------------+-----+----------+---------+---------------+---------------+----------------+----------+---------+---------+---------+---------+---------+---------+---------+---------+---------+---------+---------------+\n",
      "|manufacturer_name|model_name|transmission| color|odometer_value|year_produced|engine_fuel|engine_has_gas|engine_type|engine_capacity|body_type|has_warranty|state|drivetrain|price_usd|is_exchangeable|location_region|number_of_photos|up_counter|feature_0|feature_1|feature_2|feature_3|feature_4|feature_5|feature_6|feature_7|feature_8|feature_9|duration_listed|\n",
      "+-----------------+----------+------------+------+--------------+-------------+-----------+--------------+-----------+---------------+---------+------------+-----+----------+---------+---------------+---------------+----------------+----------+---------+---------+---------+---------+---------+---------+---------+---------+---------+---------+---------------+\n",
      "|           Subaru|   Outback|   automatic|silver|        190000|         2010|   gasoline|         False|   gasoline|            2.5|universal|       False|owned|       all|  10900.0|          False|   Минская обл.|               9|        13|    False|     True|     True|     True|    False|     True|    False|     True|     True|     True|             16|\n",
      "|           Subaru|   Outback|   automatic|  blue|        290000|         2002|   gasoline|         False|   gasoline|            3.0|universal|       False|owned|       all|   5000.0|           True|   Минская обл.|              12|        54|    False|     True|    False|    False|     True|     True|    False|    False|    False|     True|             83|\n",
      "|           Subaru|  Forester|   automatic|   red|        402000|         2001|   gasoline|         False|   gasoline|            2.5|      suv|       False|owned|       all|   2800.0|           True|   Минская обл.|               4|        72|    False|     True|    False|    False|    False|    False|    False|    False|     True|     True|            151|\n",
      "|           Subaru|   Impreza|  mechanical|  blue|         10000|         1999|   gasoline|         False|   gasoline|            3.0|    sedan|       False|owned|       all|   9999.0|           True|   Минская обл.|               9|        42|     True|    False|    False|    False|    False|    False|    False|    False|    False|    False|             86|\n",
      "|           Subaru|    Legacy|   automatic| black|        280000|         2001|   gasoline|         False|   gasoline|            2.5|universal|       False|owned|       all|  2134.11|           True|Гомельская обл.|              14|         7|    False|     True|    False|     True|     True|    False|    False|    False|    False|     True|              7|\n",
      "+-----------------+----------+------------+------+--------------+-------------+-----------+--------------+-----------+---------------+---------+------------+-----+----------+---------+---------------+---------------+----------------+----------+---------+---------+---------+---------+---------+---------+---------+---------+---------+---------+---------------+\n",
      "only showing top 5 rows\n",
      "\n"
     ]
    }
   ],
   "source": [
    "# Вывод первых 5 строк полученного DataFrame\n",
    "\n",
    "df.show(5)"
   ]
  },
  {
   "cell_type": "markdown",
   "id": "8158bd43",
   "metadata": {},
   "source": [
    "В силу большого числа признаков в рассматриваемых данных - вывод нечитаемый. \n",
    "\n",
    "**Иной метод вывода данных:**"
   ]
  },
  {
   "cell_type": "code",
   "execution_count": 17,
   "id": "d941ae43",
   "metadata": {
    "ExecuteTime": {
     "end_time": "2022-08-15T09:07:53.676387Z",
     "start_time": "2022-08-15T09:07:53.434280Z"
    }
   },
   "outputs": [
    {
     "name": "stdout",
     "output_type": "stream",
     "text": [
      "-RECORD 0-------------------------\n",
      " manufacturer_name | Subaru       \n",
      " model_name        | Outback      \n",
      " transmission      | automatic    \n",
      " color             | silver       \n",
      " odometer_value    | 190000       \n",
      " year_produced     | 2010         \n",
      " engine_fuel       | gasoline     \n",
      " engine_has_gas    | False        \n",
      " engine_type       | gasoline     \n",
      " engine_capacity   | 2.5          \n",
      " body_type         | universal    \n",
      " has_warranty      | False        \n",
      " state             | owned        \n",
      " drivetrain        | all          \n",
      " price_usd         | 10900.0      \n",
      " is_exchangeable   | False        \n",
      " location_region   | Минская обл. \n",
      " number_of_photos  | 9            \n",
      " up_counter        | 13           \n",
      " feature_0         | False        \n",
      " feature_1         | True         \n",
      " feature_2         | True         \n",
      " feature_3         | True         \n",
      " feature_4         | False        \n",
      " feature_5         | True         \n",
      " feature_6         | False        \n",
      " feature_7         | True         \n",
      " feature_8         | True         \n",
      " feature_9         | True         \n",
      " duration_listed   | 16           \n",
      "-RECORD 1-------------------------\n",
      " manufacturer_name | Subaru       \n",
      " model_name        | Outback      \n",
      " transmission      | automatic    \n",
      " color             | blue         \n",
      " odometer_value    | 290000       \n",
      " year_produced     | 2002         \n",
      " engine_fuel       | gasoline     \n",
      " engine_has_gas    | False        \n",
      " engine_type       | gasoline     \n",
      " engine_capacity   | 3.0          \n",
      " body_type         | universal    \n",
      " has_warranty      | False        \n",
      " state             | owned        \n",
      " drivetrain        | all          \n",
      " price_usd         | 5000.0       \n",
      " is_exchangeable   | True         \n",
      " location_region   | Минская обл. \n",
      " number_of_photos  | 12           \n",
      " up_counter        | 54           \n",
      " feature_0         | False        \n",
      " feature_1         | True         \n",
      " feature_2         | False        \n",
      " feature_3         | False        \n",
      " feature_4         | True         \n",
      " feature_5         | True         \n",
      " feature_6         | False        \n",
      " feature_7         | False        \n",
      " feature_8         | False        \n",
      " feature_9         | True         \n",
      " duration_listed   | 83           \n",
      "only showing top 2 rows\n",
      "\n"
     ]
    }
   ],
   "source": [
    "# Выводим две строки в вертикальном просмотре\n",
    "\n",
    "df.show(2, vertical=True)"
   ]
  },
  {
   "cell_type": "code",
   "execution_count": null,
   "id": "d9037e96",
   "metadata": {},
   "outputs": [],
   "source": []
  },
  {
   "cell_type": "code",
   "execution_count": null,
   "id": "41aa3ae0",
   "metadata": {},
   "outputs": [],
   "source": []
  },
  {
   "cell_type": "code",
   "execution_count": null,
   "id": "b1c1d1d9",
   "metadata": {},
   "outputs": [],
   "source": []
  },
  {
   "cell_type": "code",
   "execution_count": null,
   "id": "88690d69",
   "metadata": {},
   "outputs": [],
   "source": []
  },
  {
   "cell_type": "code",
   "execution_count": null,
   "id": "fd774dca",
   "metadata": {},
   "outputs": [],
   "source": []
  }
 ],
 "metadata": {
  "kernelspec": {
   "display_name": "Python 3 (ipykernel)",
   "language": "python",
   "name": "python3"
  },
  "language_info": {
   "codemirror_mode": {
    "name": "ipython",
    "version": 3
   },
   "file_extension": ".py",
   "mimetype": "text/x-python",
   "name": "python",
   "nbconvert_exporter": "python",
   "pygments_lexer": "ipython3",
   "version": "3.9.12"
  },
  "varInspector": {
   "cols": {
    "lenName": 16,
    "lenType": 16,
    "lenVar": 40
   },
   "kernels_config": {
    "python": {
     "delete_cmd_postfix": "",
     "delete_cmd_prefix": "del ",
     "library": "var_list.py",
     "varRefreshCmd": "print(var_dic_list())"
    },
    "r": {
     "delete_cmd_postfix": ") ",
     "delete_cmd_prefix": "rm(",
     "library": "var_list.r",
     "varRefreshCmd": "cat(var_dic_list()) "
    }
   },
   "types_to_exclude": [
    "module",
    "function",
    "builtin_function_or_method",
    "instance",
    "_Feature"
   ],
   "window_display": false
  }
 },
 "nbformat": 4,
 "nbformat_minor": 5
}
